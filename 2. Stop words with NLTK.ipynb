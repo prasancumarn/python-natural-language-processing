{
 "cells": [
  {
   "cell_type": "markdown",
   "metadata": {},
   "source": [
    "The idea of Natural Language Processing is to do some form of analysis, or processing, where the machine can understand, at least to some level, what the text means, says, or implies.\n",
    "\n",
    "\n",
    "# Stop words with NLTK\n",
    "\n",
    " The process of converting data to something a computer can understand is referred to as \"pre-processing.\" One of the major forms of pre-processing is going to be filtering out useless data. In natural language processing, useless words (data), are referred to as stop words."
   ]
  },
  {
   "cell_type": "code",
   "execution_count": 1,
   "metadata": {
    "collapsed": true
   },
   "outputs": [],
   "source": [
    "from nltk.corpus import stopwords\n",
    "from nltk.tokenize import word_tokenize"
   ]
  },
  {
   "cell_type": "code",
   "execution_count": 3,
   "metadata": {
    "collapsed": true
   },
   "outputs": [],
   "source": [
    "example_sentence = \"This is an example showing off stop word filtration.\"\n",
    "stop_words = set(stopwords.words(\"english\"))"
   ]
  },
  {
   "cell_type": "code",
   "execution_count": 5,
   "metadata": {
    "collapsed": false
   },
   "outputs": [
    {
     "name": "stdout",
     "output_type": "stream",
     "text": [
      "{'itself', 'did', 'they', 'only', 'so', 'weren', 'this', 'these', 'being', 'below', 'll', 'you', 'down', 'ourselves', 'yourselves', 'them', 'it', 'at', 'shan', 'nor', 'same', 'above', 'me', 'were', 'than', 'such', 'we', 'which', 've', 'from', 'had', 'before', 'then', 'mightn', 'am', 'most', 'have', 'own', 'o', 'between', 'into', 'y', 'all', 'hasn', 'few', 'any', 'your', 'no', 'again', 'don', 'too', 'out', 'won', 'are', 'doesn', 'under', 'in', 'doing', 'when', 'shouldn', 'why', 're', 'm', 'more', 's', 'ain', 'is', 'about', 'until', 'where', 'to', 'very', 'as', 'the', 'once', 'needn', 'aren', 'haven', 'hers', 'didn', 'other', 'whom', 'having', 'herself', 'was', 'wouldn', 'her', 'been', 'up', 'isn', 'each', 'wasn', 'further', 'over', 'by', 'for', 'not', 'on', 'i', 'his', 'myself', 'theirs', 'because', 'their', 'and', 'during', 'yours', 'but', 'couldn', 'do', 'yourself', 'should', 'how', 'there', 'd', 'that', 'of', 'if', 'who', 'a', 'what', 'or', 'while', 'just', 'himself', 'with', 'now', 'through', 'some', 'be', 'my', 'he', 'here', 'both', 'against', 't', 'an', 'our', 'themselves', 'those', 'after', 'can', 'she', 'him', 'mustn', 'ours', 'will', 'off', 'does', 'ma', 'has', 'hadn', 'its'}\n"
     ]
    }
   ],
   "source": [
    "print(stop_words)"
   ]
  },
  {
   "cell_type": "code",
   "execution_count": 6,
   "metadata": {
    "collapsed": true
   },
   "outputs": [],
   "source": [
    "words = word_tokenize(example_sentence)"
   ]
  },
  {
   "cell_type": "code",
   "execution_count": 10,
   "metadata": {
    "collapsed": false
   },
   "outputs": [],
   "source": [
    "filtered_sentence = []\n",
    "for w in words:\n",
    "    if w not in stop_words:\n",
    "        filtered_sentence.append(w)"
   ]
  },
  {
   "cell_type": "code",
   "execution_count": 14,
   "metadata": {
    "collapsed": false
   },
   "outputs": [
    {
     "data": {
      "text/plain": [
       "['This', 'example', 'showing', 'stop', 'word', 'filtration', '.']"
      ]
     },
     "execution_count": 14,
     "metadata": {},
     "output_type": "execute_result"
    }
   ],
   "source": [
    "filtered_sentence"
   ]
  },
  {
   "cell_type": "code",
   "execution_count": 15,
   "metadata": {
    "collapsed": true
   },
   "outputs": [],
   "source": [
    "filtered_sentence = [w for w in words if not w in stop_words ]"
   ]
  },
  {
   "cell_type": "markdown",
   "metadata": {},
   "source": [
    "is an, off now removed "
   ]
  },
  {
   "cell_type": "code",
   "execution_count": 17,
   "metadata": {
    "collapsed": false
   },
   "outputs": [
    {
     "data": {
      "text/plain": [
       "['This', 'example', 'showing', 'stop', 'word', 'filtration', '.']"
      ]
     },
     "execution_count": 17,
     "metadata": {},
     "output_type": "execute_result"
    }
   ],
   "source": [
    "filtered_sentence"
   ]
  },
  {
   "cell_type": "markdown",
   "metadata": {},
   "source": []
  },
  {
   "cell_type": "code",
   "execution_count": null,
   "metadata": {
    "collapsed": true
   },
   "outputs": [],
   "source": []
  }
 ],
 "metadata": {
  "kernelspec": {
   "display_name": "Python [conda root]",
   "language": "python",
   "name": "conda-root-py"
  },
  "language_info": {
   "codemirror_mode": {
    "name": "ipython",
    "version": 3
   },
   "file_extension": ".py",
   "mimetype": "text/x-python",
   "name": "python",
   "nbconvert_exporter": "python",
   "pygments_lexer": "ipython3",
   "version": "3.5.2"
  }
 },
 "nbformat": 4,
 "nbformat_minor": 1
}
